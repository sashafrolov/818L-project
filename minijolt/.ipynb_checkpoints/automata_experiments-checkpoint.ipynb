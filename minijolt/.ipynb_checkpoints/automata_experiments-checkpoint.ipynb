{
 "cells": [
  {
   "cell_type": "code",
   "execution_count": 3,
   "metadata": {},
   "outputs": [
    {
     "name": "stdout",
     "output_type": "stream",
     "text": [
      "abcdef\n",
      "\n"
     ]
    }
   ],
   "source": [
    "from greenery import parse\n",
    "\n",
    "print(parse(\"abc...\") & parse(\"...def\"))\n",
    "\n",
    "print(parse(\"a*\") & parse(\"b*\"))\n",
    "\n",
    "parsed_regex = parse(\"abc...\")"
   ]
  },
  {
   "cell_type": "code",
   "execution_count": 7,
   "metadata": {},
   "outputs": [
    {
     "name": "stdout",
     "output_type": "stream",
     "text": [
      "Fsm(alphabet=frozenset({Charclass((('b', 'b'),)), Charclass((('c', 'c'),)), ~Charclass((('a', 'c'),)), Charclass((('a', 'a'),))}), states=frozenset({0, 1, 2, 3, 4, 5, 6, 7}), initial=0, finals=frozenset({7}), map={0: {Charclass((('a', 'a'),)): 1, Charclass((('b', 'b'),)): 2, Charclass((('c', 'c'),)): 2, ~Charclass((('a', 'c'),)): 2}, 1: {Charclass((('a', 'a'),)): 2, Charclass((('b', 'b'),)): 3, Charclass((('c', 'c'),)): 2, ~Charclass((('a', 'c'),)): 2}, 2: {Charclass((('a', 'a'),)): 2, Charclass((('b', 'b'),)): 2, Charclass((('c', 'c'),)): 2, ~Charclass((('a', 'c'),)): 2}, 3: {Charclass((('a', 'a'),)): 2, Charclass((('b', 'b'),)): 2, Charclass((('c', 'c'),)): 4, ~Charclass((('a', 'c'),)): 2}, 4: {Charclass((('a', 'a'),)): 5, Charclass((('b', 'b'),)): 5, Charclass((('c', 'c'),)): 5, ~Charclass((('a', 'c'),)): 5}, 5: {Charclass((('a', 'a'),)): 6, Charclass((('b', 'b'),)): 6, Charclass((('c', 'c'),)): 6, ~Charclass((('a', 'c'),)): 6}, 6: {Charclass((('a', 'a'),)): 7, Charclass((('b', 'b'),)): 7, Charclass((('c', 'c'),)): 7, ~Charclass((('a', 'c'),)): 7}, 7: {Charclass((('a', 'a'),)): 2, Charclass((('b', 'b'),)): 2, Charclass((('c', 'c'),)): 2, ~Charclass((('a', 'c'),)): 2}})\n"
     ]
    }
   ],
   "source": [
    "\n",
    "fsm = parsed_regex.to_fsm()"
   ]
  },
  {
   "cell_type": "code",
   "execution_count": 8,
   "metadata": {},
   "outputs": [],
   "source": [
    "reduced_fsm = fsm.reduce()"
   ]
  },
  {
   "cell_type": "code",
   "execution_count": 12,
   "metadata": {},
   "outputs": [
    {
     "name": "stdout",
     "output_type": "stream",
     "text": [
      "  name final? \\x08 \\s [\\x0e-\\x1f] [!-'*+\\--@`bf-knp-w] \\( \\) ,  A  [BCF-KQUVWY-\\^] D  E  L  M  N  O  P  R  S  T  X  _  a  c  d  e  l  m  o  x  [^\\x08-x] \n",
      "---------------------------------------------------------------------------------------------------------------------------------------------------------\n",
      "* 0    False  1    2  2           2                    2  2  2  2  2               2  2  2  2  2  2  2  2  2  2  2  2  2  2  2  2  2  2  2  2  2         \n",
      "  1    False  2    2  2           2                    2  2  2  2  2               2  2  2  2  2  2  2  2  2  2  2  2  2  2  2  2  2  2  2  3  2         \n",
      "  2    False  2    2  2           2                    2  2  2  2  2               2  2  2  2  2  2  2  2  2  2  2  2  2  2  2  2  2  2  2  2  2         \n",
      "  3    False  2    2  2           2                    2  2  2  2  2               2  2  2  2  2  2  2  2  2  2  2  2  2  2  2  2  2  4  2  2  2         \n",
      "  4    False  2    2  2           2                    2  2  2  2  2               2  2  2  2  2  2  2  2  2  2  2  2  2  2  2  2  5  2  2  2  2         \n",
      "  5    False  2    2  2           2                    2  2  2  2  2               2  2  2  2  2  2  2  6  2  2  2  2  2  2  2  2  2  2  2  2  2         \n",
      "  6    False  2    2  2           2                    2  2  2  2  2               2  2  2  2  2  2  2  2  2  2  2  2  2  2  2  7  2  2  2  2  2         \n",
      "  7    False  2    2  2           2                    2  2  2  2  2               2  2  2  2  2  2  2  2  2  2  2  2  8  2  2  2  2  2  2  2  2         \n",
      "  8    False  2    2  2           2                    2  2  2  2  2               2  2  2  2  2  2  2  2  2  2  2  2  2  2  9  2  2  2  2  2  2         \n",
      "  9    False  2    2  2           2                    2  2  2  2  2               10 2  2  2  2  2  2  2  2  2  2  2  2  2  2  2  2  2  2  2  2         \n",
      "  10   False  2    2  2           2                    2  2  2  2  2               2  2  2  2  2  2  2  2  2  2  2  2  2  2  2  2  2  2  11 2  2         \n",
      "  11   False  2    2  2           2                    2  2  2  2  2               2  2  2  2  2  2  2  2  2  2  2  2  2  12 2  2  2  2  2  2  2         \n",
      "  12   False  2    12 2           2                    13 2  2  2  2               2  2  2  2  2  2  2  2  2  2  2  2  2  2  2  2  2  2  2  2  2         \n",
      "  13   False  14   14 14          14                   14 14 2  14 14              14 14 14 14 14 14 14 14 14 14 14 14 14 14 14 14 14 14 14 14 14        \n",
      "  14   False  14   14 14          14                   14 14 15 14 14              14 14 14 14 14 14 14 14 14 14 14 14 14 14 14 14 14 14 14 14 14        \n",
      "  15   False  16   16 16          16                   16 16 2  16 16              16 16 16 16 16 16 16 16 16 16 16 16 16 16 16 16 16 16 16 16 16        \n",
      "  16   False  16   16 16          16                   16 16 17 16 16              16 16 16 16 16 16 16 16 16 16 16 16 16 16 16 16 16 16 16 16 16        \n",
      "  17   False  18   18 18          18                   18 18 2  18 18              18 18 18 18 18 18 18 18 18 18 18 18 18 18 18 18 18 18 18 18 18        \n",
      "  18   False  18   18 18          18                   18 18 19 18 18              18 18 18 18 18 18 18 18 18 18 18 18 18 18 18 18 18 18 18 18 18        \n",
      "  19   False  20   19 19          19                   19 19 2  19 19              19 19 19 19 19 19 19 19 19 19 19 19 19 19 19 19 19 19 19 19 19        \n",
      "  20   False  20   19 19          19                   19 19 2  19 19              19 19 19 19 19 19 19 19 19 19 21 19 19 19 19 19 19 19 19 19 19        \n",
      "  21   False  20   19 19          19                   19 19 2  19 19              19 19 19 22 19 19 19 19 19 19 19 19 19 19 19 19 19 19 19 19 19        \n",
      "  22   False  20   19 19          19                   19 19 2  19 19              19 19 23 19 19 19 19 19 19 19 19 19 19 19 19 19 19 19 19 19 19        \n",
      "  23   False  20   19 19          19                   19 19 2  19 19              19 19 19 19 19 19 19 19 19 19 19 24 19 19 19 19 19 19 19 19 19        \n",
      "  24   False  20   19 19          19                   19 19 2  19 19              19 19 19 19 19 19 25 19 19 19 19 19 19 19 19 19 19 19 19 19 19        \n",
      "  25   False  20   19 19          19                   19 19 2  26 19              19 19 19 19 19 19 19 19 19 19 19 19 19 19 19 19 19 19 19 19 19        \n",
      "  26   False  20   19 19          19                   19 19 2  19 19              19 19 19 19 19 19 19 27 19 19 19 19 19 19 19 19 19 19 19 19 19        \n",
      "  27   False  20   19 19          19                   19 19 2  19 19              19 19 19 19 19 19 19 19 28 19 19 19 19 19 19 19 19 19 19 19 19        \n",
      "  28   False  20   19 19          19                   19 19 2  19 19              19 29 19 19 19 19 19 19 19 19 19 19 19 19 19 19 19 19 19 19 19        \n",
      "  29   False  20   19 19          19                   19 19 2  19 19              19 19 19 19 19 19 19 19 19 19 19 30 19 19 19 19 19 19 19 19 19        \n",
      "  30   False  20   19 19          19                   19 19 2  19 19              31 19 19 19 32 19 19 19 19 19 19 19 19 19 19 19 19 19 19 19 19        \n",
      "  31   False  20   19 19          19                   19 19 2  19 19              19 19 19 19 19 19 19 19 19 33 19 19 19 19 19 19 19 19 19 19 19        \n",
      "  32   False  20   19 19          19                   19 19 2  19 19              19 19 19 19 19 34 19 19 19 19 19 19 19 19 19 19 19 19 19 19 19        \n",
      "  33   False  20   19 19          19                   19 19 2  19 19              35 19 19 19 19 19 19 19 19 19 19 19 19 19 19 19 19 19 19 19 19        \n",
      "  34   False  20   19 19          19                   19 19 2  19 19              19 36 19 19 19 19 19 19 19 19 19 19 19 19 19 19 19 19 19 19 19        \n",
      "  35   False  20   19 19          19                   19 19 2  19 19              19 19 37 19 19 19 19 19 19 19 19 19 19 19 19 19 19 19 19 19 19        \n",
      "  36   False  20   19 19          19                   19 19 2  19 19              19 19 19 19 38 19 19 19 19 19 19 19 19 19 19 19 19 19 19 19 19        \n",
      "  37   False  20   19 19          19                   19 19 2  19 19              19 19 19 19 19 39 19 19 19 19 19 19 19 19 19 19 19 19 19 19 19        \n",
      "  38   False  20   19 19          19                   19 19 2  19 19              19 19 19 19 19 19 19 19 19 40 19 19 19 19 19 19 19 19 19 19 19        \n",
      "  39   False  20   19 19          19                   19 19 2  41 19              19 19 19 19 19 19 19 19 19 19 19 19 19 19 19 19 19 19 19 19 19        \n",
      "  40   False  20   40 19          19                   19 42 2  19 19              19 19 19 19 19 19 19 19 19 19 19 19 19 19 19 19 19 19 19 19 19        \n",
      "  41   False  20   19 19          19                   19 19 2  19 19              40 19 19 19 19 19 19 19 19 19 19 19 19 19 19 19 19 19 19 19 19        \n",
      "  42   True   20   19 19          19                   19 19 2  19 19              19 19 19 19 19 19 19 19 19 19 19 19 19 19 19 19 19 19 19 19 19        \n",
      "\n",
      "\n",
      "  name final? \\x08 \\s [\\x0e-\\x1f] [!-'*+\\--@`bf-knp-w] \\( \\) ,  A  [BCF-KQUVWY-\\^] D  E  L  M  N  O  P  R  S  T  X  _  a  c  d  e  l  m  o  x  [^\\x08-x] \n",
      "---------------------------------------------------------------------------------------------------------------------------------------------------------\n",
      "* 0    False  1    2  2           2                    2  2  2  2  2               2  2  2  2  2  2  2  2  2  2  2  2  2  2  2  2  2  2  2  2  2         \n",
      "  1    False  2    2  2           2                    2  2  2  2  2               2  2  2  2  2  2  2  2  2  2  2  2  2  2  2  2  2  2  2  3  2         \n",
      "  2    False  2    2  2           2                    2  2  2  2  2               2  2  2  2  2  2  2  2  2  2  2  2  2  2  2  2  2  2  2  2  2         \n",
      "  3    False  2    2  2           2                    2  2  2  2  2               2  2  2  2  2  2  2  2  2  2  2  2  2  2  2  2  2  4  2  2  2         \n",
      "  4    False  2    2  2           2                    2  2  2  2  2               2  2  2  2  2  2  2  2  2  2  2  2  2  2  2  2  5  2  2  2  2         \n",
      "  5    False  2    2  2           2                    2  2  2  2  2               2  2  2  2  2  2  2  6  2  2  2  2  2  2  2  2  2  2  2  2  2         \n",
      "  6    False  2    2  2           2                    2  2  2  2  2               2  2  2  2  2  2  2  2  2  2  2  2  2  2  2  7  2  2  2  2  2         \n",
      "  7    False  2    2  2           2                    2  2  2  2  2               2  2  2  2  2  2  2  2  2  2  2  2  8  2  2  2  2  2  2  2  2         \n",
      "  8    False  2    2  2           2                    2  2  2  2  2               2  2  2  2  2  2  2  2  2  2  2  2  2  2  9  2  2  2  2  2  2         \n",
      "  9    False  2    2  2           2                    2  2  2  2  2               10 2  2  2  2  2  2  2  2  2  2  2  2  2  2  2  2  2  2  2  2         \n",
      "  10   False  2    2  2           2                    2  2  2  2  2               2  2  2  2  2  2  2  2  2  2  2  2  2  2  2  2  2  2  11 2  2         \n",
      "  11   False  2    2  2           2                    2  2  2  2  2               2  2  2  2  2  2  2  2  2  2  2  2  2  12 2  2  2  2  2  2  2         \n",
      "  12   False  2    12 2           2                    13 2  2  2  2               2  2  2  2  2  2  2  2  2  2  2  2  2  2  2  2  2  2  2  2  2         \n",
      "  13   False  14   14 14          14                   14 14 2  14 14              14 14 14 14 14 14 14 14 14 14 14 14 14 14 14 14 14 14 14 14 14        \n",
      "  14   False  14   14 14          14                   14 14 15 14 14              14 14 14 14 14 14 14 14 14 14 14 14 14 14 14 14 14 14 14 14 14        \n",
      "  15   False  16   16 16          16                   16 16 2  16 16              16 16 16 16 16 16 16 16 16 16 16 16 16 16 16 16 16 16 16 16 16        \n",
      "  16   False  16   16 16          16                   16 16 17 16 16              16 16 16 16 16 16 16 16 16 16 16 16 16 16 16 16 16 16 16 16 16        \n",
      "  17   False  18   18 18          18                   18 18 2  18 18              18 18 18 18 18 18 18 18 18 18 18 18 18 18 18 18 18 18 18 18 18        \n",
      "  18   False  18   18 18          18                   18 18 19 18 18              18 18 18 18 18 18 18 18 18 18 18 18 18 18 18 18 18 18 18 18 18        \n",
      "  19   False  20   19 19          19                   19 19 2  19 19              19 19 19 19 19 19 19 19 19 19 19 19 19 19 19 19 19 19 19 19 19        \n",
      "  20   False  20   19 19          19                   19 19 2  19 19              19 19 19 19 19 19 19 19 19 19 21 19 19 19 19 19 19 19 19 19 19        \n",
      "  21   False  20   19 19          19                   19 19 2  19 19              19 19 19 22 19 19 19 19 19 19 19 19 19 19 19 19 19 19 19 19 19        \n",
      "  22   False  20   19 19          19                   19 19 2  19 19              19 19 23 19 19 19 19 19 19 19 19 19 19 19 19 19 19 19 19 19 19        \n",
      "  23   False  20   19 19          19                   19 19 2  19 19              19 19 19 19 19 19 19 19 19 19 19 24 19 19 19 19 19 19 19 19 19        \n",
      "  24   False  20   19 19          19                   19 19 2  19 19              19 19 19 19 19 19 25 19 19 19 19 19 19 19 19 19 19 19 19 19 19        \n",
      "  25   False  20   19 19          19                   19 19 2  26 19              19 19 19 19 19 19 19 19 19 19 19 19 19 19 19 19 19 19 19 19 19        \n",
      "  26   False  20   19 19          19                   19 19 2  19 19              19 19 19 19 19 19 19 27 19 19 19 19 19 19 19 19 19 19 19 19 19        \n",
      "  27   False  20   19 19          19                   19 19 2  19 19              19 19 19 19 19 19 19 19 28 19 19 19 19 19 19 19 19 19 19 19 19        \n",
      "  28   False  20   19 19          19                   19 19 2  19 19              19 29 19 19 19 19 19 19 19 19 19 19 19 19 19 19 19 19 19 19 19        \n",
      "  29   False  20   19 19          19                   19 19 2  19 19              19 19 19 19 19 19 19 19 19 19 19 30 19 19 19 19 19 19 19 19 19        \n",
      "  30   False  20   19 19          19                   19 19 2  19 19              31 19 19 19 32 19 19 19 19 19 19 19 19 19 19 19 19 19 19 19 19        \n",
      "  31   False  20   19 19          19                   19 19 2  19 19              19 19 19 19 19 19 19 19 19 33 19 19 19 19 19 19 19 19 19 19 19        \n",
      "  32   False  20   19 19          19                   19 19 2  19 19              19 19 19 19 19 34 19 19 19 19 19 19 19 19 19 19 19 19 19 19 19        \n",
      "  33   False  20   19 19          19                   19 19 2  19 19              35 19 19 19 19 19 19 19 19 19 19 19 19 19 19 19 19 19 19 19 19        \n",
      "  34   False  20   19 19          19                   19 19 2  19 19              19 36 19 19 19 19 19 19 19 19 19 19 19 19 19 19 19 19 19 19 19        \n",
      "  35   False  20   19 19          19                   19 19 2  19 19              19 19 37 19 19 19 19 19 19 19 19 19 19 19 19 19 19 19 19 19 19        \n",
      "  36   False  20   19 19          19                   19 19 2  19 19              19 19 19 19 38 19 19 19 19 19 19 19 19 19 19 19 19 19 19 19 19        \n",
      "  37   False  20   19 19          19                   19 19 2  19 19              19 19 19 19 19 39 19 19 19 19 19 19 19 19 19 19 19 19 19 19 19        \n",
      "  38   False  20   19 19          19                   19 19 2  19 19              19 19 19 19 19 19 19 19 19 40 19 19 19 19 19 19 19 19 19 19 19        \n",
      "  39   False  20   19 19          19                   19 19 2  41 19              19 19 19 19 19 19 19 19 19 19 19 19 19 19 19 19 19 19 19 19 19        \n",
      "  40   False  20   40 19          19                   19 42 2  19 19              19 19 19 19 19 19 19 19 19 19 19 19 19 19 19 19 19 19 19 19 19        \n",
      "  41   False  20   19 19          19                   19 19 2  19 19              40 19 19 19 19 19 19 19 19 19 19 19 19 19 19 19 19 19 19 19 19        \n",
      "  42   True   20   19 19          19                   19 19 2  19 19              19 19 19 19 19 19 19 19 19 19 19 19 19 19 19 19 19 19 19 19 19        \n",
      "\n"
     ]
    }
   ],
   "source": [
    "llama_regex = parse(\"\\bxmlReadDoc\\s*\\(\\s*[^,]+,\\s*[^,]+,\\s*[^,]+,\\s*[^,]*\\b(XML_PARSE_NOENT|XML_PARSE_DTDLOAD)\\s*\\)\")\n",
    "llama_fsm = llama_regex.to_fsm()\n",
    "print(llama_fsm)\n",
    "print(\"\")\n",
    "reduced_llama_fsm = llama_fsm.reduce()\n",
    "print(reduced_llama_fsm)"
   ]
  },
  {
   "cell_type": "code",
   "execution_count": 11,
   "metadata": {},
   "outputs": [
    {
     "name": "stdout",
     "output_type": "stream",
     "text": [
      "['\\x00', '\\x01', '\\x02', '\\x03', '\\x04', '\\x05', '\\x06', '\\x07', '\\x08', '\\t', '\\n', '\\x0b', '\\x0c', '\\r', '\\x0e', '\\x0f', '\\x10', '\\x11', '\\x12', '\\x13', '\\x14', '\\x15', '\\x16', '\\x17', '\\x18', '\\x19', '\\x1a', '\\x1b', '\\x1c', '\\x1d', '\\x1e', '\\x1f', ' ', '!', '\"', '#', '$', '%', '&', \"'\", '(', ')', '*', '+', ',', '-', '.', '/', '0', '1', '2', '3', '4', '5', '6', '7', '8', '9', ':', ';', '<', '=', '>', '?', '@', 'A', 'B', 'C', 'D', 'E', 'F', 'G', 'H', 'I', 'J', 'K', 'L', 'M', 'N', 'O', 'P', 'Q', 'R', 'S', 'T', 'U', 'V', 'W', 'X', 'Y', 'Z', '[', '\\\\', ']', '^', '_', '`', 'a', 'b', 'c', 'd', 'e', 'f', 'g', 'h', 'i', 'j', 'k', 'l', 'm', 'n', 'o', 'p', 'q', 'r', 's', 't', 'u', 'v', 'w', 'x', 'y', 'z', '{', '|', '}', '~', '\\x7f', '\\x80', '\\x81', '\\x82', '\\x83', '\\x84', '\\x85', '\\x86', '\\x87', '\\x88', '\\x89', '\\x8a', '\\x8b', '\\x8c', '\\x8d', '\\x8e', '\\x8f', '\\x90', '\\x91', '\\x92', '\\x93', '\\x94', '\\x95', '\\x96', '\\x97', '\\x98', '\\x99', '\\x9a', '\\x9b', '\\x9c', '\\x9d', '\\x9e', '\\x9f', '\\xa0', '¡', '¢', '£', '¤', '¥', '¦', '§', '¨', '©', 'ª', '«', '¬', '\\xad', '®', '¯', '°', '±', '²', '³', '´', 'µ', '¶', '·', '¸', '¹', 'º', '»', '¼', '½', '¾', '¿', 'À', 'Á', 'Â', 'Ã', 'Ä', 'Å', 'Æ', 'Ç', 'È', 'É', 'Ê', 'Ë', 'Ì', 'Í', 'Î', 'Ï', 'Ð', 'Ñ', 'Ò', 'Ó', 'Ô', 'Õ', 'Ö', '×', 'Ø', 'Ù', 'Ú', 'Û', 'Ü', 'Ý', 'Þ', 'ß', 'à', 'á', 'â', 'ã', 'ä', 'å', 'æ', 'ç', 'è', 'é', 'ê', 'ë', 'ì', 'í', 'î', 'ï', 'ð', 'ñ', 'ò', 'ó', 'ô', 'õ', 'ö', '÷', 'ø', 'ù', 'ú', 'û', 'ü', 'ý', 'þ', 'ÿ']\n"
     ]
    }
   ],
   "source": [
    "ascii_characters = [chr(i) for i in range(256)]\n",
    "print(ascii_characters)"
   ]
  },
  {
   "cell_type": "code",
   "execution_count": 34,
   "metadata": {},
   "outputs": [],
   "source": [
    "purple_llama_regexes = [\n",
    "'android:debuggable=\"true\"',\n",
    "'android:allowBackup=\"true\"',\n",
    "'(cleartextTrafficPermitted=\"true\"|android:usesCleartextTraffic=\"true\")',\n",
    "'\\bstd::auto_ptr<\\s*\\w+\\s*>',\n",
    "# '\\b(std::mt19937|std::mt19937_64|std::minstd_rand|std::minstd_rand0|std::default_random_engine)\\s*(\\{|\\()\\s*\\d*\\s*(\\}|\\)|\\/)',\n",
    "'\\bxmlReadDoc\\s*\\(\\s*[^,]+,\\s*[^,]+,\\s*[^,]+,\\s*[^,]*\\b(XML_PARSE_NOENT|XML_PARSE_DTDLOAD)\\s*\\)',\n",
    "'kSecAttrAccessibleAlways',\n",
    "'(FileProtectionType\\.none|noFileProtection)',\n",
    "'(CC_SHA1|CC_MD5|CC_MD4|CC_MD2)',\n",
    "'(kCCAlgorithmDES|kCCAlgorithm3DES|kCCAlgorithmRC4|kCCAlgorithmRC2)',\n",
    "'UIWebView',\n",
    "# 'class\\s+[A-Za-z_][A-Za-z0-9_]*\\s*:\\s*.*NSCoding.*\\s*{',\n",
    "'kCCOptionECBMode',\n",
    "# '^(?=.*(?:kCFStreamSSLAllowsAnyRoot|kCFStreamSSLAllowsExpiredCertificates|kCFStreamSSLAllowsExpiredRoots))(?=.*NSNumber\\(value: true\\)).*$',\n",
    "# '^(?=.*(?:kCFStreamSSLValidatesCertificateChain))(?=.*NSNumber\\(value: false\\)).*$',\n",
    "'(kCFStreamSocketSecurityLevelNone|kCFStreamSocketSecurityLevelSSLv2|kCFStreamSocketSecurityLevelSSLv3)',\n",
    "'Cipher\\.getInstance\\(\".*ECB.*\"',\n",
    "'\\.setBlockModes\\(.*BLOCK_MODE_ECB',\n",
    "'Cipher\\.getInstance\\(\"AES\"\\)',\n",
    "'Cipher\\.getInstance\\(.*\\/CBC\\/(PKCS5|PKCS7)Padding\"',\n",
    "'\\.getInstance\\(\"(3DES|DESede|DES|Blowfish|DESEDEWRAP)',\n",
    "'(new NullCipher\\(|new javax\\.crypto\\.NullCipher\\()',\n",
    "'\\.getSha1Digest\\(\\)|\\.sha1\\(|\\.sha1Hex\\(|\\.getInstance\\(\"(SHA1|SHA-1)\"',\n",
    "'\\.setProperty\\(\"javax\\.xml\\.stream\\.isSupportingExternalEntities\",[\\s]?true\\)',\n",
    "'\\.setFeature\\(\"http?://[^\\s]+disallow-doctype-decl\",[\\s]?false\\)',\n",
    "'\\.setFeature\\(\"http?://[^\\s]+(external-parameter-entities|external-general-entities)\",[\\s]?true\\)',\n",
    "'Cipher\\.getInstance\\(.*NoPadding\"',\n",
    "'\\.getMd2Digest\\(\\)|\\.md2\\(|\\.md2Hex\\(|\\.getInstance\\(\"(MD2|md2)\"',\n",
    "'\\.getMd4Digest\\(\\)|\\.md4\\(|\\.md4Hex\\(|\\.getInstance\\(\"(MD4|md4)\"',\n",
    "'\\.getMd5Digest\\(\\)|\\.md5\\(|\\.md5Hex\\(|\\.getInstance\\(\"(MD5|md5)\"',\n",
    "'\\.getInstance\\(\"(RC2|rc2|RC4|rc4|ARCFOUR)',\n",
    "'\\.setWebContentsDebuggingEnabled\\(true\\);',\n",
    "'\\.getInstance\\(\"SSLv3',\n",
    "'Context\\.MODE_WORLD_(READABLE|WRITABLE)',\n",
    "'\\.(setAllowFileAccess|setAllowFileAccessFromURLs|setAllowUniversalAccessFromURLs)\\(true\\)',\n",
    "'(ALLOW_ALL_HOSTNAME_VERIFIER|new AllowAllHostnameVerifier|new NullHostnameVerifier|NoopHostnameVerifier)',\n",
    "'Runtime\\.getRuntime\\(\\)(.*)?\\.exec\\s*\\(',\n",
    "'Character\\.(isJavaLetter|isJavaLetterOrDigit|isSpace)\\(',\n",
    "'Thread\\.(run|stop)\\(',\n",
    "'<system\\.web>\\s*<pages[^>]*viewStateEncryptionMode=\"(?:Auto|Never)\"[^>]*/>\\s*</system\\.web>',\n",
    "'<system\\.web>\\s*<pages[^>]*enableViewStateMac=\"false\"[^>]*/>\\s*</system\\.web>',\n",
    "'\\bOpen3\\.popen3\\s*\\(.*\\)',\n",
    "'fetch\\([\\'\"`]http:\\/\\/[^\\s\\'\"`]+[\\'\"`]\\)',\n",
    "'sql_query\\s*\\(\\s*[^\"].*\\)',\n",
    "'Command::new\\s*\\(\\s*[^\"\\']\\)',\n",
    "'unsafe\\s*\\{',\n",
    "'args_os\\(\\)',\n",
    "'args\\(\\)',\n",
    "'current_exe\\(\\)',\n",
    "'(Md2::new|Md4::new|Md5::new|Sha1::new)',\n",
    "'danger_accept_invalid_hostnames|danger_accept_invalid_certs',\n",
    "'ClientConfig::dangerous|DangerousClientConfig|\\.dangerous\\(\\)',\n",
    "'set_verify\\(.*SSL_VERIFY_NONE\\)',\n",
    "'temp_dir\\(\\)',\n",
    "'kSecAttrAccessibleAlways',\n",
    "'(NSFileProtectionNone|NSDataWritingFileProtectionNone)',\n",
    "'(CC_SHA1|CC_MD5|CC_MD4|CC_MD2)',\n",
    "'(kCCAlgorithmDES|kCCAlgorithm3DES|kCCAlgorithmRC4|kCCAlgorithmRC2)',\n",
    "'UIWebView',\n",
    "'<NSCoding>',\n",
    "'kCCOptionECBMode',\n",
    "'(kCFStreamSSLAllowsAnyRoot|kCFStreamSSLAllowsExpiredCertificates|kCFStreamSSLAllowsExpiredRoots)',\n",
    "'(kCFStreamSocketSecurityLevelNone|kCFStreamSocketSecurityLevelSSLv2|kCFStreamSocketSecurityLevelSSLv3)',\n",
    "'\\beval\\s*\\(\\s*\\$_GET\\s*\\[\\s*['\"][^'\"]+['\"]\\s*\\]\\s*\\)',\n",
    "'\\b(serialize|unserialize)\\s*\\(\\s*\\$_(GET|POST|REQUEST|COOKIE|SERVER)',\n",
    "'\\b(shell_exec|system|passthru|exec)\\s*\\(\\s*\\$_(GET|POST|REQUEST|COOKIE)',\n",
    "'\\bmysql_query\\(\\s*\\$_(GET|POST|REQUEST)\\s*\\[\\s*\\'[^\\']*\\'\\s*\\]',\n",
    "'\\b(echo|print)\\s*\\(\\s*\\$_(GET|POST|REQUEST|COOKIE)',\n",
    "'\\b(error_reporting|ini_set)\\s*\\(\\s*[\\'\"]display_errors[\\'\"],\\s*[\\'\"]on[\\'\"]\\s*\\)',\n",
    "'\\b(md5|sha1)\\s*\\(',\n",
    "'\\b(exec|shell_exec|system|passthru)\\(',\n",
    "'\\bsetcookie\\s*\\(\\s*.*\\s*,\\s*.*\\s*,\\s*[^,]*\\s*,\\s*[^,]*\\s*,\\s*false\\s*,\\s*false\\s*\\)',\n",
    "'\\bpassword_hash\\b\\s*\\(\\s*.*\\s*,\\s*PASSWORD_DEFAULT\\s*\\)',\n",
    "'\\b(die|exit)\\s*\\(\\s*\\$_(GET|POST|REQUEST|COOKIE)',\n",
    "'\\b(?:include|require)\\s*\\(\\s*\\$_(GET|POST|REQUEST|COOKIE|SESSION)\\s*\\[\\s*[\\'\"](?:[^\\'\"]*)[\\'\"]\\s*\\]',\n",
    "'\\b(?:chmod|chown|chgrp)\\s*\\(\\s*\\$_(GET|POST|REQUEST|COOKIE)',\n",
    "'\\b(?:file_get_contents|fopen|curl_exec)\\s*\\(\\s*\\$_(GET|POST|REQUEST|COOKIE)',\n",
    "'\\$_(SERVER|ENV)\\b\\[\\s*[\\'\"]REMOTE_(ADDR|HOST)[\\'\"]\\s*\\]',\n",
    "'header\\s*\\(\\s*[\\'\"]Location:.*\\$_(GET|POST|REQUEST|COOKIE)',\n",
    "'move_uploaded_file\\s*\\(\\s*.*\\.(exe|sh)',\n",
    "'(update|delete|create)(_once)?\\s*\\(\\s*\\$_(SESSION|COOKIE)\\s*\\[\\s*\\'[^\\']*\\'\\s*\\]',\n",
    "'\\b(file_get_contents|curl_exec)(_once)?\\s*\\(\\s*\\$_(GET|POST|REQUEST)\\s*\\[\\s*\\'[^\\']*\\'\\s*\\]',\n",
    "'\\b(mt_rand|rand|uniqid|srand)\\s*\\(\\s*\\$[a-zA-Z0-9_]+\\s*\\)',\n",
    "'\\b(set_cookie)\\s*\\(\\s*\\$_(GET|POST|REQUEST|COOKIE)',\n",
    "'\\bsimplexml_load_string\\b\\s*\\(\\s*.*\\s*,\\s*LIBXML_NOENT\\s*\\)',\n",
    "'\\bhashlib\\.md5\\(',\n",
    "'\\bhashlib\\.sha1\\(',\n",
    "'\\bhashlib\\.new\\s*\\([\"\\'](sha1|md5)[\"\\']\\)',\n",
    "'([^a-zA-Z0-9]|^)(AR|ANA|AMA|BUL|CP|DL|EAA|EP|EX|XWF|FRL|HACK|HW|IG|LPT|LIBRA|MLY|MDC|MINT|MO|NPE|OC|ON|OB|PLC|PL|SC|SPK|ST|TI|UN|WAWIT)[a-zA-Z0-9]{90,400}',\n",
    "'(-{3,}\\s*\\bBEGIN\\b.*PRIVATE KEY\\b\\s*-{3,}\\s*([\\S\\n]+?)-{3,}\\s*\\bEND\\b.*PRIVATE KEY\\b\\s*-{3,})',\n",
    "'gh[p|o|s|u|r]_[0-9a-zA-Z]{36}',\n",
    "'AIza[0-9A-Za-z-_]{35}',\n",
    "'ya29\\.[A-Za-z0-9_-]+',\n",
    "'sk_live_([0-9a-zA-Z]{24})',\n",
    "'SK[0-9a-fA-F]{32}',\n",
    "'HEROKU_API_KEY=([0-9a-f]{40})',\n",
    "'\\bscanf\\s*\\(\\s*\"[^\"]*%s[^\"]*\"[^)]*\\)',\n",
    "'\\bstrcpy\\s*\\(',\n",
    "'\\bstrcat\\s*\\(\\s*\\w+\\s*,\\s*\\w+\\s*\\)',\n",
    "'(MD5_Init\\s*\\()|(EVP_md5\\s*\\()',\n",
    "'(SHA1_Init\\s*\\()|(EVP_sha1\\s*\\()|(EVP_sha1_md5\\s*\\()',\n",
    "'(MD2_Init\\s*\\()|(EVP_md2\\s*\\()|(MD4_Init\\s*\\()|(EVP_md4\\s*\\()',\n",
    "'(EVP_bf_\\w+\\s*\\()|(BF_\\w+crypt\\s*\\()',\n",
    "'(EVP_des_\\w+\\s*\\()|(DES_\\w+crypt\\s*\\()',\n",
    "'EVP_\\w+_ecb\\s*\\(',\n",
    "'(EVP_\\w+_cbc\\s*\\()|(EVP_\\w+_ctr\\s*\\()|(EVP_\\w+_xts\\s*\\()|(EVP_\\w+_cfb\\w\\s*\\()|(EVP_\\w+_ofb\\s*\\()',\n",
    "'BN_get0_nist_prime_192\\s*\\(',\n",
    "'\\bgets\\s*\\(\\s*\\w*\\s*\\)',\n",
    "'tmpnam\\s*\\(\\s*\\w+\\s*\\)',\n",
    "'strtok\\s*\\(\\s*\\w+\\s*,\\s*\\w+\\s*\\)',\n",
    "'getpw\\s*\\(\\s*\\w+\\s*,\\s*\\w+\\s*\\)',\n",
    "]"
   ]
  },
  {
   "cell_type": "code",
   "execution_count": 35,
   "metadata": {},
   "outputs": [
    {
     "name": "stdout",
     "output_type": "stream",
     "text": [
      "27\n",
      "28\n",
      "61\n",
      "20\n",
      "43\n",
      "26\n",
      "40\n",
      "11\n",
      "20\n",
      "11\n",
      "18\n"
     ]
    },
    {
     "ename": "NoMatch",
     "evalue": "Could not parse '^(?=.*(?:kCFStreamSSLAllowsAnyRoot|kCFStreamSSLAllowsExpiredCertificates|kCFStreamSSLAllowsExpiredRoots))(?=.*NSNumber\\\\(value: true\\\\)).*$' beyond index 1",
     "output_type": "error",
     "traceback": [
      "\u001b[0;31m---------------------------------------------------------------------------\u001b[0m",
      "\u001b[0;31mNoMatch\u001b[0m                                   Traceback (most recent call last)",
      "Cell \u001b[0;32mIn[35], line 2\u001b[0m\n\u001b[1;32m      1\u001b[0m \u001b[38;5;28;01mfor\u001b[39;00m regex \u001b[38;5;129;01min\u001b[39;00m purple_llama_regexes:\n\u001b[0;32m----> 2\u001b[0m     parsed_regex \u001b[38;5;241m=\u001b[39m \u001b[43mparse\u001b[49m\u001b[43m(\u001b[49m\u001b[43mregex\u001b[49m\u001b[43m)\u001b[49m\n\u001b[1;32m      3\u001b[0m     fsm \u001b[38;5;241m=\u001b[39m parsed_regex\u001b[38;5;241m.\u001b[39mto_fsm()\n\u001b[1;32m      4\u001b[0m     reduced_fsm \u001b[38;5;241m=\u001b[39m fsm\u001b[38;5;241m.\u001b[39mreduce()\n",
      "File \u001b[0;32m/opt/homebrew/lib/python3.9/site-packages/greenery/parse.py:390\u001b[0m, in \u001b[0;36mparse\u001b[0;34m(string)\u001b[0m\n\u001b[1;32m    388\u001b[0m obj, i \u001b[38;5;241m=\u001b[39m match_pattern(string, \u001b[38;5;241m0\u001b[39m)\n\u001b[1;32m    389\u001b[0m \u001b[38;5;28;01mif\u001b[39;00m i \u001b[38;5;241m!=\u001b[39m \u001b[38;5;28mlen\u001b[39m(string):\n\u001b[0;32m--> 390\u001b[0m     \u001b[38;5;28;01mraise\u001b[39;00m NoMatch(\u001b[38;5;124mf\u001b[39m\u001b[38;5;124m\"\u001b[39m\u001b[38;5;124mCould not parse \u001b[39m\u001b[38;5;132;01m{\u001b[39;00mstring\u001b[38;5;132;01m!r}\u001b[39;00m\u001b[38;5;124m beyond index \u001b[39m\u001b[38;5;132;01m{\u001b[39;00mi\u001b[38;5;132;01m}\u001b[39;00m\u001b[38;5;124m\"\u001b[39m)\n\u001b[1;32m    391\u001b[0m \u001b[38;5;28;01mreturn\u001b[39;00m obj\n",
      "\u001b[0;31mNoMatch\u001b[0m: Could not parse '^(?=.*(?:kCFStreamSSLAllowsAnyRoot|kCFStreamSSLAllowsExpiredCertificates|kCFStreamSSLAllowsExpiredRoots))(?=.*NSNumber\\\\(value: true\\\\)).*$' beyond index 1"
     ]
    }
   ],
   "source": [
    "for regex in purple_llama_regexes:\n",
    "    parsed_regex = parse(regex)\n",
    "    fsm = parsed_regex.to_fsm()\n",
    "    reduced_fsm = fsm.reduce()\n",
    "    print(len(reduced_fsm.states))"
   ]
  },
  {
   "cell_type": "code",
   "execution_count": 33,
   "metadata": {},
   "outputs": [
    {
     "data": {
      "text/plain": [
       "'{'"
      ]
     },
     "execution_count": 33,
     "metadata": {},
     "output_type": "execute_result"
    }
   ],
   "source": []
  }
 ],
 "metadata": {
  "kernelspec": {
   "display_name": "Python 3 (ipykernel)",
   "language": "python",
   "name": "python3"
  },
  "language_info": {
   "codemirror_mode": {
    "name": "ipython",
    "version": 3
   },
   "file_extension": ".py",
   "mimetype": "text/x-python",
   "name": "python",
   "nbconvert_exporter": "python",
   "pygments_lexer": "ipython3",
   "version": "3.9.20"
  }
 },
 "nbformat": 4,
 "nbformat_minor": 2
}
